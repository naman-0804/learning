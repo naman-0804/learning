{
 "cells": [
  {
   "cell_type": "code",
   "execution_count": 6,
   "id": "3de24e35",
   "metadata": {},
   "outputs": [
    {
     "name": "stdout",
     "output_type": "stream",
     "text": [
      "      Name   Age         City   Salary\n",
      "0    Alice  24.0     New York  70000.0\n",
      "1      Bob   NaN  Los Angeles  80000.0\n",
      "2  Charlie  22.0         None      NaN\n",
      "3    David   NaN      Chicago  60000.0\n",
      "Name      0\n",
      "Age       2\n",
      "City      1\n",
      "Salary    1\n",
      "dtype: int64\n"
     ]
    }
   ],
   "source": [
    "import pandas as pd\n",
    "data={\n",
    "    'Name': ['Alice', 'Bob', 'Charlie', 'David'],\n",
    "    'Age': [24,None, 22, None],\n",
    "    'City': ['New York', 'Los Angeles', None, 'Chicago'],\n",
    "    'Salary': [70000, 80000, None, 60000]\n",
    "}\n",
    "df=pd.DataFrame(data)\n",
    "print(df)\n",
    "print(df.isnull().sum())"
   ]
  }
 ],
 "metadata": {
  "kernelspec": {
   "display_name": "Python 3",
   "language": "python",
   "name": "python3"
  },
  "language_info": {
   "codemirror_mode": {
    "name": "ipython",
    "version": 3
   },
   "file_extension": ".py",
   "mimetype": "text/x-python",
   "name": "python",
   "nbconvert_exporter": "python",
   "pygments_lexer": "ipython3",
   "version": "3.13.7"
  }
 },
 "nbformat": 4,
 "nbformat_minor": 5
}
