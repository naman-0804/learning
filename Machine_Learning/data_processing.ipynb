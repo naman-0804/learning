{
 "cells": [
  {
   "cell_type": "code",
   "execution_count": 25,
   "id": "3ab60be6",
   "metadata": {},
   "outputs": [],
   "source": [
    "import pandas as pd  # Import the pandas library for data manipulation\n",
    "\n",
    "data={  # Define a dictionary with sample data\n",
    "    'Name': ['Alice', 'Bob', 'Charlie', 'David'],\n",
    "    'Age': [24,None, 22, None],\n",
    "    'City': ['New York', 'Los Angeles', None, 'Chicago'],\n",
    "    'Salary': [70000, 80000, None, 60000]\n",
    "}\n",
    "\n",
    "df=pd.DataFrame(data)                   # Create a DataFrame from the dictionary"
   ]
  },
  {
   "cell_type": "code",
   "execution_count": 26,
   "id": "3de24e35",
   "metadata": {},
   "outputs": [
    {
     "name": "stdout",
     "output_type": "stream",
     "text": [
      "      Name   Age         City   Salary\n",
      "0    Alice  24.0     New York  70000.0\n",
      "1      Bob   NaN  Los Angeles  80000.0\n",
      "2  Charlie  22.0         None      NaN\n",
      "3    David   NaN      Chicago  60000.0\n",
      "Name      0\n",
      "Age       2\n",
      "City      1\n",
      "Salary    1\n",
      "dtype: int64\n",
      "    Name   Age      City   Salary\n",
      "0  Alice  24.0  New York  70000.0\n",
      "\n"
     ]
    }
   ],
   "source": [
    "\n",
    "print(df)  # Print the DataFrame\n",
    "print(df.isnull().sum())              # Print the count of missing values in each column\n",
    "print(df.dropna())                    # Print the DataFrame after dropping rows with missing values\n",
    "print(\"\")\n",
    "                           # Print the DataFrame after filling miSsing values in 'Age' with the mean age\n"
   ]
  },
  {
   "cell_type": "code",
   "execution_count": 27,
   "id": "a4a33164",
   "metadata": {},
   "outputs": [
    {
     "name": "stdout",
     "output_type": "stream",
     "text": [
      "      Name   Age         City   Salary\n",
      "0    Alice  24.0     New York  70000.0\n",
      "1      Bob  23.0  Los Angeles  80000.0\n",
      "2  Charlie  22.0         None  70000.0\n",
      "3    David  23.0      Chicago  60000.0\n"
     ]
    }
   ],
   "source": [
    "\n",
    "##Handling missing values by filling them with the mean of the column\n",
    "\n",
    "df['Age'] = df['Age'].fillna(df['Age'].mean()) # Fill missing values in 'Age' with the mean age\n",
    "df['Salary']=df['Salary'].fillna(df['Salary'].mean()) # Fill missing values in 'Salary' with the mean salary\n",
    "print(df) "
   ]
  },
  {
   "cell_type": "code",
   "execution_count": 38,
   "id": "1408f154",
   "metadata": {},
   "outputs": [],
   "source": [
    "import pandas as pd\n",
    "df=pd.read_csv('data.csv')"
   ]
  },
  {
   "cell_type": "code",
   "execution_count": null,
   "id": "f07769cb",
   "metadata": {},
   "outputs": [
    {
     "name": "stdout",
     "output_type": "stream",
     "text": [
      "       Name  Gender     City Passed  encoded-Passed\n",
      "0     Alice  Female  Chicago    Yes               1\n",
      "1       Bob    Male  Chicago     No               0\n",
      "2   Charlie    Male  Chicago    Yes               1\n",
      "3     David    Male  Houston     No               0\n",
      "4       Eve  Female  Houston    Yes               1\n",
      "5     Frank    Male  Houston     No               0\n",
      "6     Grace  Female  Houston    Yes               1\n",
      "7    Hannah  Female   Dallas     No               0\n",
      "8       Ian    Male   Dallas    Yes               1\n",
      "9     Julia  Female   Austin     No               0\n",
      "10    Kevin    Male   Austin    Yes               1\n",
      "11    Laura  Female   Austin     No               0\n",
      "\n"
     ]
    }
   ],
   "source": [
    "##Encoding categorical values using label encoding ,one-hot encoding\n",
    "from sklearn.preprocessing import LabelEncoder\n",
    "le=LabelEncoder()\n",
    "df['encoded-Passed']=le.fit_transform(df['Passed']) # Label encoding for 'Passed' column\n",
    "print(df)\n",
    "print(\"\")"
   ]
  },
  {
   "cell_type": "code",
   "execution_count": 47,
   "id": "f44804f2",
   "metadata": {},
   "outputs": [
    {
     "name": "stdout",
     "output_type": "stream",
     "text": [
      "One hot encoding for 'City' column\n",
      "       Name  Gender Passed  encoded-Passed  City_Austin  City_Chicago  \\\n",
      "0     Alice  Female    Yes               1        False          True   \n",
      "1       Bob    Male     No               0        False          True   \n",
      "2   Charlie    Male    Yes               1        False          True   \n",
      "3     David    Male     No               0        False         False   \n",
      "4       Eve  Female    Yes               1        False         False   \n",
      "5     Frank    Male     No               0        False         False   \n",
      "6     Grace  Female    Yes               1        False         False   \n",
      "7    Hannah  Female     No               0        False         False   \n",
      "8       Ian    Male    Yes               1        False         False   \n",
      "9     Julia  Female     No               0         True         False   \n",
      "10    Kevin    Male    Yes               1         True         False   \n",
      "11    Laura  Female     No               0         True         False   \n",
      "\n",
      "    City_Dallas  City_Houston  \n",
      "0         False         False  \n",
      "1         False         False  \n",
      "2         False         False  \n",
      "3         False          True  \n",
      "4         False          True  \n",
      "5         False          True  \n",
      "6         False          True  \n",
      "7          True         False  \n",
      "8          True         False  \n",
      "9         False         False  \n",
      "10        False         False  \n",
      "11        False         False  \n"
     ]
    }
   ],
   "source": [
    "# One-hot encoding for 'City' column\n",
    "print(\"One hot encoding for 'City' column\")\n",
    "one_hot_encoded_df = pd.get_dummies(df, columns=['City'], prefix='City')\n",
    "print(one_hot_encoded_df)"
   ]
  }
 ],
 "metadata": {
  "kernelspec": {
   "display_name": "Python 3",
   "language": "python",
   "name": "python3"
  },
  "language_info": {
   "codemirror_mode": {
    "name": "ipython",
    "version": 3
   },
   "file_extension": ".py",
   "mimetype": "text/x-python",
   "name": "python",
   "nbconvert_exporter": "python",
   "pygments_lexer": "ipython3",
   "version": "3.13.7"
  }
 },
 "nbformat": 4,
 "nbformat_minor": 5
}
