{
 "cells": [
  {
   "cell_type": "markdown",
   "id": "cddff357",
   "metadata": {},
   "source": [
    "K nearest neighbour"
   ]
  },
  {
   "cell_type": "code",
   "execution_count": null,
   "id": "be568416",
   "metadata": {},
   "outputs": [
    {
     "name": "stdout",
     "output_type": "stream",
     "text": [
      "The fruit is orange\n"
     ]
    }
   ],
   "source": [
    "from sklearn.neighbors import KNeighborsClassifier\n",
    "X=[ # [gram,size]\n",
    "    [180,7],\n",
    "    [200,7.5],\n",
    "    [250,8],\n",
    "    [300,8.5],\n",
    "    [330,9]\n",
    "]\n",
    "y=[0,0,0,1,1]#0 is orange, 1 is apple\n",
    "gram=float(input(\"Enter the weight of fruit in gram: \"))\n",
    "size=float(input(\"Enter the size of fruit in inch: \"))\n",
    "model=KNeighborsClassifier(n_neighbors=3)\n",
    "model.fit(X,y)\n",
    "output=model.predict([[gram,size]])[0] #gives [out]; if put ')[0]', gives output directly\n",
    "if output==0:\n",
    "    print(\"The fruit is orange\")\n",
    "else:\n",
    "    print(\"The fruit is apple\")"
   ]
  }
 ],
 "metadata": {
  "kernelspec": {
   "display_name": "Python 3",
   "language": "python",
   "name": "python3"
  },
  "language_info": {
   "codemirror_mode": {
    "name": "ipython",
    "version": 3
   },
   "file_extension": ".py",
   "mimetype": "text/x-python",
   "name": "python",
   "nbconvert_exporter": "python",
   "pygments_lexer": "ipython3",
   "version": "3.13.7"
  }
 },
 "nbformat": 4,
 "nbformat_minor": 5
}
