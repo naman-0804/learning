{
 "cells": [
  {
   "cell_type": "markdown",
   "id": "59abd371",
   "metadata": {},
   "source": [
    "Logistic regression"
   ]
  },
  {
   "cell_type": "code",
   "execution_count": 12,
   "id": "5967e627",
   "metadata": {},
   "outputs": [
    {
     "name": "stdout",
     "output_type": "stream",
     "text": [
      "if you study for 10.0 hours and sleep for 7.0 hours you will pass\n"
     ]
    }
   ],
   "source": [
    "from sklearn.linear_model import LogisticRegression\n",
    "model=LogisticRegression()\n",
    "X=[[1,10],[2,8],[3,5],[5,6],[7,5],[6,2],[7,1]] #hours of study and sleep hours are its input \n",
    "y=[0, 0, 0, 1, 1,0,0] #fail or pass \n",
    "study=float(input(\"Enter how many hour\"))#predict marks for value hours of study\n",
    "sleep=float(input(\"Enter how many hour of sleep\"))#predict marks for value hours of study\n",
    "model.fit(X, y)\n",
    "output=model.predict([[study,sleep]])\n",
    "if output==1:\n",
    "    output=\"pass\"\n",
    "else:\n",
    "    output=\"fail\"\n",
    "print(f\"if you study for {study} hours and sleep for {sleep} hours you will {output}\")"
   ]
  }
 ],
 "metadata": {
  "kernelspec": {
   "display_name": "Python 3",
   "language": "python",
   "name": "python3"
  },
  "language_info": {
   "codemirror_mode": {
    "name": "ipython",
    "version": 3
   },
   "file_extension": ".py",
   "mimetype": "text/x-python",
   "name": "python",
   "nbconvert_exporter": "python",
   "pygments_lexer": "ipython3",
   "version": "3.13.7"
  }
 },
 "nbformat": 4,
 "nbformat_minor": 5
}
