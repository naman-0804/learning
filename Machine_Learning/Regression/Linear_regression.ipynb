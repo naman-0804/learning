{
 "cells": [
  {
   "cell_type": "markdown",
   "id": "d5e745b5",
   "metadata": {},
   "source": [
    "Linear Regression   "
   ]
  },
  {
   "cell_type": "code",
   "execution_count": 7,
   "id": "d69cd17e",
   "metadata": {},
   "outputs": [
    {
     "name": "stdout",
     "output_type": "stream",
     "text": [
      "If you study for 10.0 hours and sleep for 2.0 hours you will score [20.] marks\n"
     ]
    }
   ],
   "source": [
    "from sklearn.linear_model import LinearRegression\n",
    "model=LinearRegression()\n",
    "#X=[[1],[2],[3],[4],[5]] #hours of study its a input\n",
    "#y=[10,25,30,45,60] #marks scored its a output\n",
    "X=[[1,10],[2,8],[3,5],[4,3],[5,4],[6,2],[7,1]] #hours of study and sleep hours are its input \n",
    "y=[10,25,40,50,55,50,30] #marks scored its a output\n",
    "study=float(input(\"Enter how many hour\"))#predict marks for value hours of study\n",
    "sleep=float(input(\"Enter how many hour of sleep\"))#predict marks for value hours of study\n",
    "model.fit(X,y)\n",
    "output=model.predict([[study,sleep]])\n",
    "print(f\"If you study for {study} hours and sleep for {sleep} hours you will score {output} marks\")"
   ]
  }
 ],
 "metadata": {
  "kernelspec": {
   "display_name": "Python 3",
   "language": "python",
   "name": "python3"
  },
  "language_info": {
   "codemirror_mode": {
    "name": "ipython",
    "version": 3
   },
   "file_extension": ".py",
   "mimetype": "text/x-python",
   "name": "python",
   "nbconvert_exporter": "python",
   "pygments_lexer": "ipython3",
   "version": "3.13.7"
  }
 },
 "nbformat": 4,
 "nbformat_minor": 5
}
