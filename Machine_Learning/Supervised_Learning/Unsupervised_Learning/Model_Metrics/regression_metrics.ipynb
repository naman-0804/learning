{
 "cells": [
  {
   "cell_type": "code",
   "execution_count": 3,
   "id": "fbcd175c",
   "metadata": {},
   "outputs": [],
   "source": [
    "from sklearn.metrics import mean_absolute_error, mean_squared_error, root_mean_squared_error\n",
    "import numpy as np"
   ]
  },
  {
   "cell_type": "code",
   "execution_count": 6,
   "id": "2cb2efeb",
   "metadata": {},
   "outputs": [
    {
     "name": "stdout",
     "output_type": "stream",
     "text": [
      "The Mean Absolute Error is: 14.25 , The Mean Squared Error is: 257.25 , The Root Mean Squared Error is: 16.03901493234544\n"
     ]
    }
   ],
   "source": [
    "#real scores\n",
    "y_real = [90,80,50,60]\n",
    "#predicted scores\n",
    "y_pred = [80,70,60,87]\n",
    "\n",
    "mae=mean_absolute_error(y_real, y_pred)\n",
    "mse=mean_squared_error(y_real, y_pred)\n",
    "rmse=np.sqrt(mse)\n",
    "print(f\"The Mean Absolute Error is: {mae} , The Mean Squared Error is: {mse} , The Root Mean Squared Error is: {rmse}\")"
   ]
  }
 ],
 "metadata": {
  "kernelspec": {
   "display_name": "Python 3",
   "language": "python",
   "name": "python3"
  },
  "language_info": {
   "codemirror_mode": {
    "name": "ipython",
    "version": 3
   },
   "file_extension": ".py",
   "mimetype": "text/x-python",
   "name": "python",
   "nbconvert_exporter": "python",
   "pygments_lexer": "ipython3",
   "version": "3.13.7"
  }
 },
 "nbformat": 4,
 "nbformat_minor": 5
}
