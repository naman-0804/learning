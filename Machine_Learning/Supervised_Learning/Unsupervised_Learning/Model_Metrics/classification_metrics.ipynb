{
 "cells": [
  {
   "cell_type": "code",
   "execution_count": 2,
   "id": "61c02799",
   "metadata": {},
   "outputs": [],
   "source": [
    "from sklearn.metrics import accuracy_score,precision_score,recall_score,f1_score"
   ]
  },
  {
   "cell_type": "code",
   "execution_count": 3,
   "id": "9037a619",
   "metadata": {},
   "outputs": [
    {
     "name": "stdout",
     "output_type": "stream",
     "text": [
      "Accuracy:  0.7142857142857143\n",
      "Precision:  0.75\n",
      "Recall:  0.75\n",
      "F1 score:  0.75\n"
     ]
    }
   ],
   "source": [
    "#X=what actually happened true answer\n",
    "y_true=[1,0,1,1,0,1,0]\n",
    "#y=what model predicted\n",
    "y_pred=[1,0,1,0,0,1,1]\n",
    "#evaluation\n",
    "print(\"Accuracy: \",accuracy_score(y_true,y_pred)) #how many predictions were correct\n",
    "print(\"Precision: \",precision_score(y_true,y_pred)) #of all predicted positive, how many were actually positive\n",
    "print(\"Recall: \",recall_score(y_true,y_pred)) #of all actual positive, how many were predicted positive\n",
    "print(\"F1 score: \",f1_score(y_true,y_pred)) #harmonic mean of precision and recall"
   ]
  }
 ],
 "metadata": {
  "kernelspec": {
   "display_name": "Python 3",
   "language": "python",
   "name": "python3"
  },
  "language_info": {
   "codemirror_mode": {
    "name": "ipython",
    "version": 3
   },
   "file_extension": ".py",
   "mimetype": "text/x-python",
   "name": "python",
   "nbconvert_exporter": "python",
   "pygments_lexer": "ipython3",
   "version": "3.13.7"
  }
 },
 "nbformat": 4,
 "nbformat_minor": 5
}
