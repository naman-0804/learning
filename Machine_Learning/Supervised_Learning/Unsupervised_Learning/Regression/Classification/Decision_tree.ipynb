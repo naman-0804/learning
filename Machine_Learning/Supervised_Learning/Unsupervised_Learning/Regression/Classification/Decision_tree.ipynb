{
 "cells": [
  {
   "cell_type": "markdown",
   "id": "85785df8",
   "metadata": {},
   "source": [
    "Decision tree\n",
    "# Is Fever > 100\n",
    "#   yes > Cough?\n",
    "#       yes > flu\n",
    "#       No > Maybe\n",
    "#   No - No Flu"
   ]
  },
  {
   "cell_type": "code",
   "execution_count": 3,
   "id": "5d2fe4e5",
   "metadata": {},
   "outputs": [
    {
     "name": "stdout",
     "output_type": "stream",
     "text": [
      "if Fever=97.0 and Cough=1 then Flu\n"
     ]
    },
    {
     "name": "stderr",
     "output_type": "stream",
     "text": [
      "C:\\Users\\naman\\AppData\\Local\\Packages\\PythonSoftwareFoundation.Python.3.13_qbz5n2kfra8p0\\LocalCache\\local-packages\\Python313\\site-packages\\sklearn\\utils\\validation.py:2749: UserWarning: X does not have valid feature names, but DecisionTreeClassifier was fitted with feature names\n",
      "  warnings.warn(\n"
     ]
    }
   ],
   "source": [
    "from sklearn.tree import DecisionTreeClassifier\n",
    "import pandas as pd\n",
    "# --- Dataset ---\n",
    "data = pd.DataFrame({\n",
    "    'Fever': [101, 102, 99, 98, 103],\n",
    "    'Cough': [1, 0, 0, 0, 1],  # 1=yes, 0=no\n",
    "    'Flu': ['Flu', 'Maybe', 'No Flu', 'No Flu', 'Flu']\n",
    "})\n",
    "\n",
    "# --- Features & Target ---\n",
    "X = data[['Fever', 'Cough']]\n",
    "y = data['Flu']\n",
    "\n",
    "# --- Train Model ---\n",
    "model = DecisionTreeClassifier(random_state=0)\n",
    "model.fit(X, y)\n",
    "Temp = float(input(\"Enter the temperature: \"))\n",
    "iscough = int(input(\"Enter the if cough is there (1 for yes, 0 for no): \"))\n",
    "# --- Test Prediction ---\n",
    "out=model.predict([[Temp,iscough]])  # [[Fever, Cough]]\n",
    "print(f\"if Fever={Temp} and Cough={iscough} then {out[0]}\")\n"
   ]
  }
 ],
 "metadata": {
  "kernelspec": {
   "display_name": "Python 3",
   "language": "python",
   "name": "python3"
  },
  "language_info": {
   "codemirror_mode": {
    "name": "ipython",
    "version": 3
   },
   "file_extension": ".py",
   "mimetype": "text/x-python",
   "name": "python",
   "nbconvert_exporter": "python",
   "pygments_lexer": "ipython3",
   "version": "3.13.7"
  }
 },
 "nbformat": 4,
 "nbformat_minor": 5
}
